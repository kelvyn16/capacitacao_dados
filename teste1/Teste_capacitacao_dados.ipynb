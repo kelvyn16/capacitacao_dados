{
 "cells": [
  {
   "cell_type": "markdown",
   "metadata": {},
   "source": [
    "# Projeto Capacitação de dados"
   ]
  },
  {
   "cell_type": "markdown",
   "metadata": {},
   "source": [
    "## importando bibliotecas"
   ]
  },
  {
   "cell_type": "code",
   "execution_count": 1,
   "metadata": {},
   "outputs": [],
   "source": [
    "import pandas as pd\n",
    "import numpy as np\n",
    "import matplotlib.pyplot as plt"
   ]
  },
  {
   "cell_type": "code",
   "execution_count": 2,
   "metadata": {},
   "outputs": [],
   "source": [
    "### Importando as bases de dados\n",
    "airport = pd.read_csv(r\"C:\\Users\\augus\\Desktop\\airports.csv\")\n",
    "user = pd.read_csv(r\"C:\\Users\\augus\\Desktop\\users.csv\")"
   ]
  },
  {
   "cell_type": "code",
   "execution_count": 3,
   "metadata": {},
   "outputs": [],
   "source": [
    "### Excluindo registros nulos do campo \"country\" apenas para exemplificar o que queremos para o dataset final.\n",
    "airport.dropna(subset = [\"country\"], inplace = True)"
   ]
  },
  {
   "cell_type": "code",
   "execution_count": 4,
   "metadata": {},
   "outputs": [
    {
     "data": {
      "text/plain": [
       "861"
      ]
     },
     "execution_count": 4,
     "metadata": {},
     "output_type": "execute_result"
    }
   ],
   "source": [
    "### Ainda temos uma quantidade elevada de registros e boa parte das linhas ainda possuem dados faltantes.\n",
    "### Como desejamos apenas uma amostra do nosso banco, realizaremos abaixo mais uma limpeza, pois queremos que todos os campos estejam preenchidos\n",
    "airport.shape[0]"
   ]
  },
  {
   "cell_type": "code",
   "execution_count": 5,
   "metadata": {},
   "outputs": [
    {
     "data": {
      "text/html": [
       "<div>\n",
       "<style scoped>\n",
       "    .dataframe tbody tr th:only-of-type {\n",
       "        vertical-align: middle;\n",
       "    }\n",
       "\n",
       "    .dataframe tbody tr th {\n",
       "        vertical-align: top;\n",
       "    }\n",
       "\n",
       "    .dataframe thead th {\n",
       "        text-align: right;\n",
       "    }\n",
       "</style>\n",
       "<table border=\"1\" class=\"dataframe\">\n",
       "  <thead>\n",
       "    <tr style=\"text-align: right;\">\n",
       "      <th></th>\n",
       "      <th>airport</th>\n",
       "      <th>country</th>\n",
       "      <th>continent</th>\n",
       "      <th>airports_group</th>\n",
       "    </tr>\n",
       "  </thead>\n",
       "  <tbody>\n",
       "    <tr>\n",
       "      <th>1</th>\n",
       "      <td>MVF</td>\n",
       "      <td>BR</td>\n",
       "      <td>NaN</td>\n",
       "      <td>NaN</td>\n",
       "    </tr>\n",
       "    <tr>\n",
       "      <th>2</th>\n",
       "      <td>OGG</td>\n",
       "      <td>US</td>\n",
       "      <td>NaN</td>\n",
       "      <td>NaN</td>\n",
       "    </tr>\n",
       "    <tr>\n",
       "      <th>3</th>\n",
       "      <td>YYT</td>\n",
       "      <td>CA</td>\n",
       "      <td>NaN</td>\n",
       "      <td>NaN</td>\n",
       "    </tr>\n",
       "    <tr>\n",
       "      <th>4</th>\n",
       "      <td>ASE</td>\n",
       "      <td>US</td>\n",
       "      <td>NaN</td>\n",
       "      <td>NaN</td>\n",
       "    </tr>\n",
       "    <tr>\n",
       "      <th>5</th>\n",
       "      <td>ELS</td>\n",
       "      <td>ZA</td>\n",
       "      <td>NaN</td>\n",
       "      <td>NaN</td>\n",
       "    </tr>\n",
       "    <tr>\n",
       "      <th>6</th>\n",
       "      <td>KRL</td>\n",
       "      <td>CN</td>\n",
       "      <td>NaN</td>\n",
       "      <td>NaN</td>\n",
       "    </tr>\n",
       "    <tr>\n",
       "      <th>7</th>\n",
       "      <td>MMX</td>\n",
       "      <td>SE</td>\n",
       "      <td>NaN</td>\n",
       "      <td>NaN</td>\n",
       "    </tr>\n",
       "    <tr>\n",
       "      <th>8</th>\n",
       "      <td>ACC</td>\n",
       "      <td>GH</td>\n",
       "      <td>NaN</td>\n",
       "      <td>NaN</td>\n",
       "    </tr>\n",
       "    <tr>\n",
       "      <th>9</th>\n",
       "      <td>REP</td>\n",
       "      <td>KH</td>\n",
       "      <td>NaN</td>\n",
       "      <td>NaN</td>\n",
       "    </tr>\n",
       "    <tr>\n",
       "      <th>10</th>\n",
       "      <td>YQM</td>\n",
       "      <td>CA</td>\n",
       "      <td>NaN</td>\n",
       "      <td>NaN</td>\n",
       "    </tr>\n",
       "  </tbody>\n",
       "</table>\n",
       "</div>"
      ],
      "text/plain": [
       "   airport country continent airports_group\n",
       "1      MVF      BR       NaN            NaN\n",
       "2      OGG      US       NaN            NaN\n",
       "3      YYT      CA       NaN            NaN\n",
       "4      ASE      US       NaN            NaN\n",
       "5      ELS      ZA       NaN            NaN\n",
       "6      KRL      CN       NaN            NaN\n",
       "7      MMX      SE       NaN            NaN\n",
       "8      ACC      GH       NaN            NaN\n",
       "9      REP      KH       NaN            NaN\n",
       "10     YQM      CA       NaN            NaN"
      ]
     },
     "execution_count": 5,
     "metadata": {},
     "output_type": "execute_result"
    }
   ],
   "source": [
    "airport.head(10)"
   ]
  },
  {
   "cell_type": "code",
   "execution_count": 5,
   "metadata": {},
   "outputs": [],
   "source": [
    "### Observou-se acima que temos uma infinidade de aeroportos que não apresentam informações de continente\n",
    "### Dado este que será muito importante para nossas análises. Sendo assim realizaremos uma limpeza nesta série.\n",
    "airport.dropna(subset = [\"continent\"], inplace = True)"
   ]
  },
  {
   "cell_type": "code",
   "execution_count": 7,
   "metadata": {},
   "outputs": [
    {
     "data": {
      "text/plain": [
       "796"
      ]
     },
     "execution_count": 7,
     "metadata": {},
     "output_type": "execute_result"
    }
   ],
   "source": [
    "airport.shape[0]"
   ]
  },
  {
   "cell_type": "code",
   "execution_count": 8,
   "metadata": {},
   "outputs": [],
   "source": [
    "### Limpeza realizada, partiremos para unir as tabelas e  realizar as análises necessárias\n",
    "\n",
    "combine = user.merge(airport, left_on='airport_to', right_on='airport')"
   ]
  },
  {
   "cell_type": "markdown",
   "metadata": {},
   "source": [
    "# Primeira Análise"
   ]
  },
  {
   "cell_type": "code",
   "execution_count": 24,
   "metadata": {},
   "outputs": [
    {
     "data": {
      "text/html": [
       "<div>\n",
       "<style scoped>\n",
       "    .dataframe tbody tr th:only-of-type {\n",
       "        vertical-align: middle;\n",
       "    }\n",
       "\n",
       "    .dataframe tbody tr th {\n",
       "        vertical-align: top;\n",
       "    }\n",
       "\n",
       "    .dataframe thead th {\n",
       "        text-align: right;\n",
       "    }\n",
       "</style>\n",
       "<table border=\"1\" class=\"dataframe\">\n",
       "  <thead>\n",
       "    <tr style=\"text-align: right;\">\n",
       "      <th></th>\n",
       "      <th>buscou</th>\n",
       "      <th>colocou_no_carrinho</th>\n",
       "      <th>comprou</th>\n",
       "    </tr>\n",
       "    <tr>\n",
       "      <th>airport_to</th>\n",
       "      <th></th>\n",
       "      <th></th>\n",
       "      <th></th>\n",
       "    </tr>\n",
       "  </thead>\n",
       "  <tbody>\n",
       "    <tr>\n",
       "      <th>EZE</th>\n",
       "      <td>23458</td>\n",
       "      <td>37350</td>\n",
       "      <td>5137</td>\n",
       "    </tr>\n",
       "    <tr>\n",
       "      <th>SCL</th>\n",
       "      <td>103230</td>\n",
       "      <td>32097</td>\n",
       "      <td>4931</td>\n",
       "    </tr>\n",
       "    <tr>\n",
       "      <th>LIS</th>\n",
       "      <td>103552</td>\n",
       "      <td>25369</td>\n",
       "      <td>2656</td>\n",
       "    </tr>\n",
       "    <tr>\n",
       "      <th>MIA</th>\n",
       "      <td>89557</td>\n",
       "      <td>20999</td>\n",
       "      <td>2484</td>\n",
       "    </tr>\n",
       "    <tr>\n",
       "      <th>MCO</th>\n",
       "      <td>58404</td>\n",
       "      <td>16101</td>\n",
       "      <td>1604</td>\n",
       "    </tr>\n",
       "    <tr>\n",
       "      <th>LHR</th>\n",
       "      <td>9260</td>\n",
       "      <td>8514</td>\n",
       "      <td>1474</td>\n",
       "    </tr>\n",
       "    <tr>\n",
       "      <th>ASU</th>\n",
       "      <td>24686</td>\n",
       "      <td>5990</td>\n",
       "      <td>1219</td>\n",
       "    </tr>\n",
       "    <tr>\n",
       "      <th>JFK</th>\n",
       "      <td>13248</td>\n",
       "      <td>10520</td>\n",
       "      <td>1192</td>\n",
       "    </tr>\n",
       "    <tr>\n",
       "      <th>MVD</th>\n",
       "      <td>25788</td>\n",
       "      <td>6541</td>\n",
       "      <td>1120</td>\n",
       "    </tr>\n",
       "    <tr>\n",
       "      <th>CDG</th>\n",
       "      <td>6725</td>\n",
       "      <td>7083</td>\n",
       "      <td>945</td>\n",
       "    </tr>\n",
       "  </tbody>\n",
       "</table>\n",
       "</div>"
      ],
      "text/plain": [
       "            buscou  colocou_no_carrinho  comprou\n",
       "airport_to                                      \n",
       "EZE          23458                37350     5137\n",
       "SCL         103230                32097     4931\n",
       "LIS         103552                25369     2656\n",
       "MIA          89557                20999     2484\n",
       "MCO          58404                16101     1604\n",
       "LHR           9260                 8514     1474\n",
       "ASU          24686                 5990     1219\n",
       "JFK          13248                10520     1192\n",
       "MVD          25788                 6541     1120\n",
       "CDG           6725                 7083      945"
      ]
     },
     "execution_count": 24,
     "metadata": {},
     "output_type": "execute_result"
    }
   ],
   "source": [
    "### Para primeira análise, vamos agrupar e somar a quantidade de voos comprados para os destinos internacionais saindo do Brasil\n",
    "### Com a criação de query, vamos determinar a conversão das buscas realizadas em compras em nosso site\n",
    "### A partir deste momento, buscar soluções para aumentar as vendas.\n",
    "inter = combine.query('country != \"BR\"').groupby(\"airport_to\").sum().sort_values(by = \"comprou\", ascending=False).head(10)\n",
    "inter"
   ]
  },
  {
   "cell_type": "code",
   "execution_count": 25,
   "metadata": {},
   "outputs": [
    {
     "data": {
      "text/html": [
       "<div>\n",
       "<style scoped>\n",
       "    .dataframe tbody tr th:only-of-type {\n",
       "        vertical-align: middle;\n",
       "    }\n",
       "\n",
       "    .dataframe tbody tr th {\n",
       "        vertical-align: top;\n",
       "    }\n",
       "\n",
       "    .dataframe thead th {\n",
       "        text-align: right;\n",
       "    }\n",
       "</style>\n",
       "<table border=\"1\" class=\"dataframe\">\n",
       "  <thead>\n",
       "    <tr style=\"text-align: right;\">\n",
       "      <th></th>\n",
       "      <th>buscou</th>\n",
       "      <th>colocou_no_carrinho</th>\n",
       "      <th>comprou</th>\n",
       "    </tr>\n",
       "  </thead>\n",
       "  <tbody>\n",
       "    <tr>\n",
       "      <th>count</th>\n",
       "      <td>10.000000</td>\n",
       "      <td>10.000000</td>\n",
       "      <td>10.000000</td>\n",
       "    </tr>\n",
       "    <tr>\n",
       "      <th>mean</th>\n",
       "      <td>45790.800000</td>\n",
       "      <td>17056.400000</td>\n",
       "      <td>2276.200000</td>\n",
       "    </tr>\n",
       "    <tr>\n",
       "      <th>std</th>\n",
       "      <td>39404.088135</td>\n",
       "      <td>11410.573695</td>\n",
       "      <td>1560.519842</td>\n",
       "    </tr>\n",
       "    <tr>\n",
       "      <th>min</th>\n",
       "      <td>6725.000000</td>\n",
       "      <td>5990.000000</td>\n",
       "      <td>945.000000</td>\n",
       "    </tr>\n",
       "    <tr>\n",
       "      <th>25%</th>\n",
       "      <td>15800.500000</td>\n",
       "      <td>7440.750000</td>\n",
       "      <td>1198.750000</td>\n",
       "    </tr>\n",
       "    <tr>\n",
       "      <th>50%</th>\n",
       "      <td>25237.000000</td>\n",
       "      <td>13310.500000</td>\n",
       "      <td>1539.000000</td>\n",
       "    </tr>\n",
       "    <tr>\n",
       "      <th>75%</th>\n",
       "      <td>81768.750000</td>\n",
       "      <td>24276.500000</td>\n",
       "      <td>2613.000000</td>\n",
       "    </tr>\n",
       "    <tr>\n",
       "      <th>max</th>\n",
       "      <td>103552.000000</td>\n",
       "      <td>37350.000000</td>\n",
       "      <td>5137.000000</td>\n",
       "    </tr>\n",
       "  </tbody>\n",
       "</table>\n",
       "</div>"
      ],
      "text/plain": [
       "              buscou  colocou_no_carrinho      comprou\n",
       "count      10.000000            10.000000    10.000000\n",
       "mean    45790.800000         17056.400000  2276.200000\n",
       "std     39404.088135         11410.573695  1560.519842\n",
       "min      6725.000000          5990.000000   945.000000\n",
       "25%     15800.500000          7440.750000  1198.750000\n",
       "50%     25237.000000         13310.500000  1539.000000\n",
       "75%     81768.750000         24276.500000  2613.000000\n",
       "max    103552.000000         37350.000000  5137.000000"
      ]
     },
     "execution_count": 25,
     "metadata": {},
     "output_type": "execute_result"
    }
   ],
   "source": [
    "inter.describe()"
   ]
  },
  {
   "cell_type": "code",
   "execution_count": 10,
   "metadata": {},
   "outputs": [],
   "source": [
    "### Foi possível observar que temos mais procura para o destino de Lisboa do que para Santiago,\n",
    "### porém a taxa de conversão em compras para o Santiago é quase o dobro 4,7% contra 2,5% de taxa de conversão\n",
    "### Outro fator relevante foi a taxa de conversão de compra dos bilhetes para Londres(Heathrow) cerca de 15,91%\n",
    "### Fator este que deve ser analisado profundamente para desenvolver ações de maior procura pelo destino, como promoções,\n",
    "### matérias no blog e até mesmo proporcionar um roteiro acessível, com parcerias com hostels, uma vez que a moeda local é elevada em comparação ao real \n",
    "### Paris possui um caso semelhante com taxa de conversão de 14,05%.\n"
   ]
  },
  {
   "cell_type": "code",
   "execution_count": 13,
   "metadata": {},
   "outputs": [
    {
     "data": {
      "text/plain": [
       "<matplotlib.axes._subplots.AxesSubplot at 0x21590f47940>"
      ]
     },
     "execution_count": 13,
     "metadata": {},
     "output_type": "execute_result"
    },
    {
     "data": {
      "image/png": "[encoded data removed]",
      "text/plain": [
       "<Figure size 432x288 with 1 Axes>"
      ]
     },
     "metadata": {},
     "output_type": "display_data"
    }
   ],
   "source": [
    "inter.plot(kind = \"bar\")"
   ]
  },
  {
   "cell_type": "markdown",
   "metadata": {},
   "source": [
    "# Segunda Análise"
   ]
  },
  {
   "cell_type": "code",
   "execution_count": 22,
   "metadata": {
    "scrolled": true
   },
   "outputs": [
    {
     "data": {
      "text/html": [
       "<div>\n",
       "<style scoped>\n",
       "    .dataframe tbody tr th:only-of-type {\n",
       "        vertical-align: middle;\n",
       "    }\n",
       "\n",
       "    .dataframe tbody tr th {\n",
       "        vertical-align: top;\n",
       "    }\n",
       "\n",
       "    .dataframe thead th {\n",
       "        text-align: right;\n",
       "    }\n",
       "</style>\n",
       "<table border=\"1\" class=\"dataframe\">\n",
       "  <thead>\n",
       "    <tr style=\"text-align: right;\">\n",
       "      <th></th>\n",
       "      <th>buscou</th>\n",
       "      <th>colocou_no_carrinho</th>\n",
       "      <th>comprou</th>\n",
       "    </tr>\n",
       "    <tr>\n",
       "      <th>airport_to</th>\n",
       "      <th></th>\n",
       "      <th></th>\n",
       "      <th></th>\n",
       "    </tr>\n",
       "  </thead>\n",
       "  <tbody>\n",
       "    <tr>\n",
       "      <th>GRU</th>\n",
       "      <td>590184</td>\n",
       "      <td>336489</td>\n",
       "      <td>84500</td>\n",
       "    </tr>\n",
       "    <tr>\n",
       "      <th>CGH</th>\n",
       "      <td>450160</td>\n",
       "      <td>229476</td>\n",
       "      <td>71942</td>\n",
       "    </tr>\n",
       "    <tr>\n",
       "      <th>VCP</th>\n",
       "      <td>141479</td>\n",
       "      <td>52937</td>\n",
       "      <td>12387</td>\n",
       "    </tr>\n",
       "  </tbody>\n",
       "</table>\n",
       "</div>"
      ],
      "text/plain": [
       "            buscou  colocou_no_carrinho  comprou\n",
       "airport_to                                      \n",
       "GRU         590184               336489    84500\n",
       "CGH         450160               229476    71942\n",
       "VCP         141479                52937    12387"
      ]
     },
     "execution_count": 22,
     "metadata": {},
     "output_type": "execute_result"
    }
   ],
   "source": [
    "region = combine.query('airports_group == \"SAO\"').groupby(\"airport_to\").sum().sort_values(by = \"comprou\", ascending=False).head(10)\n",
    "region\n"
   ]
  },
  {
   "cell_type": "code",
   "execution_count": 23,
   "metadata": {},
   "outputs": [
    {
     "data": {
      "text/html": [
       "<div>\n",
       "<style scoped>\n",
       "    .dataframe tbody tr th:only-of-type {\n",
       "        vertical-align: middle;\n",
       "    }\n",
       "\n",
       "    .dataframe tbody tr th {\n",
       "        vertical-align: top;\n",
       "    }\n",
       "\n",
       "    .dataframe thead th {\n",
       "        text-align: right;\n",
       "    }\n",
       "</style>\n",
       "<table border=\"1\" class=\"dataframe\">\n",
       "  <thead>\n",
       "    <tr style=\"text-align: right;\">\n",
       "      <th></th>\n",
       "      <th>buscou</th>\n",
       "      <th>colocou_no_carrinho</th>\n",
       "      <th>comprou</th>\n",
       "    </tr>\n",
       "  </thead>\n",
       "  <tbody>\n",
       "    <tr>\n",
       "      <th>count</th>\n",
       "      <td>3.000000</td>\n",
       "      <td>3.000000</td>\n",
       "      <td>3.000000</td>\n",
       "    </tr>\n",
       "    <tr>\n",
       "      <th>mean</th>\n",
       "      <td>393941.000000</td>\n",
       "      <td>206300.666667</td>\n",
       "      <td>56276.333333</td>\n",
       "    </tr>\n",
       "    <tr>\n",
       "      <th>std</th>\n",
       "      <td>229574.554834</td>\n",
       "      <td>143189.581438</td>\n",
       "      <td>38524.421168</td>\n",
       "    </tr>\n",
       "    <tr>\n",
       "      <th>min</th>\n",
       "      <td>141479.000000</td>\n",
       "      <td>52937.000000</td>\n",
       "      <td>12387.000000</td>\n",
       "    </tr>\n",
       "    <tr>\n",
       "      <th>25%</th>\n",
       "      <td>295819.500000</td>\n",
       "      <td>141206.500000</td>\n",
       "      <td>42164.500000</td>\n",
       "    </tr>\n",
       "    <tr>\n",
       "      <th>50%</th>\n",
       "      <td>450160.000000</td>\n",
       "      <td>229476.000000</td>\n",
       "      <td>71942.000000</td>\n",
       "    </tr>\n",
       "    <tr>\n",
       "      <th>75%</th>\n",
       "      <td>520172.000000</td>\n",
       "      <td>282982.500000</td>\n",
       "      <td>78221.000000</td>\n",
       "    </tr>\n",
       "    <tr>\n",
       "      <th>max</th>\n",
       "      <td>590184.000000</td>\n",
       "      <td>336489.000000</td>\n",
       "      <td>84500.000000</td>\n",
       "    </tr>\n",
       "  </tbody>\n",
       "</table>\n",
       "</div>"
      ],
      "text/plain": [
       "              buscou  colocou_no_carrinho       comprou\n",
       "count       3.000000             3.000000      3.000000\n",
       "mean   393941.000000        206300.666667  56276.333333\n",
       "std    229574.554834        143189.581438  38524.421168\n",
       "min    141479.000000         52937.000000  12387.000000\n",
       "25%    295819.500000        141206.500000  42164.500000\n",
       "50%    450160.000000        229476.000000  71942.000000\n",
       "75%    520172.000000        282982.500000  78221.000000\n",
       "max    590184.000000        336489.000000  84500.000000"
      ]
     },
     "execution_count": 23,
     "metadata": {},
     "output_type": "execute_result"
    }
   ],
   "source": [
    "region.describe()"
   ]
  },
  {
   "cell_type": "code",
   "execution_count": 15,
   "metadata": {},
   "outputs": [],
   "source": [
    "### CGH = 15,98% - VCP = 8,7% - GRU 14,31%\n",
    "### A busca para o aeroporto de campinas é 1/3 da busca do aeroporto de Congonhas, porém a porcentagem de conversão de compra é quase a metade\n",
    "### Guarulhos possui uma taxa elevada de busca, porém a taxa conversão em compra em função da busca é menor que a taxa de conversão de congonhas\n",
    "### Em média voar direto para Congonhas é mais caro que para Guarulhos, porém e se oferecermos um serviço combo com descontos para o deslocamento\n",
    "### De Guarulhos para o centro da cidade. Com uma boa parceria, podemos oferecer a possibilidade para os clientes que procuram o melhor preço."
   ]
  },
  {
   "cell_type": "code",
   "execution_count": 17,
   "metadata": {},
   "outputs": [
    {
     "data": {
      "text/plain": [
       "<matplotlib.axes._subplots.AxesSubplot at 0x2159121b208>"
      ]
     },
     "execution_count": 17,
     "metadata": {},
     "output_type": "execute_result"
    },
    {
     "data": {
      "image/png": "[encoded data removed]",
      "text/plain": [
       "<Figure size 432x288 with 1 Axes>"
      ]
     },
     "metadata": {},
     "output_type": "display_data"
    }
   ],
   "source": [
    "region.plot(kind = \"bar\")"
   ]
  },
  {
   "cell_type": "markdown",
   "metadata": {},
   "source": [
    "# Terceira Análise"
   ]
  },
  {
   "cell_type": "code",
   "execution_count": 18,
   "metadata": {},
   "outputs": [],
   "source": [
    "ofertante = user.groupby(\"ano_mes_da_acao\").sum().sort_values(by = \"comprou\")"
   ]
  },
  {
   "cell_type": "code",
   "execution_count": 19,
   "metadata": {},
   "outputs": [
    {
     "data": {
      "text/html": [
       "<div>\n",
       "<style scoped>\n",
       "    .dataframe tbody tr th:only-of-type {\n",
       "        vertical-align: middle;\n",
       "    }\n",
       "\n",
       "    .dataframe tbody tr th {\n",
       "        vertical-align: top;\n",
       "    }\n",
       "\n",
       "    .dataframe thead th {\n",
       "        text-align: right;\n",
       "    }\n",
       "</style>\n",
       "<table border=\"1\" class=\"dataframe\">\n",
       "  <thead>\n",
       "    <tr style=\"text-align: right;\">\n",
       "      <th></th>\n",
       "      <th>buscou</th>\n",
       "      <th>colocou_no_carrinho</th>\n",
       "      <th>comprou</th>\n",
       "    </tr>\n",
       "    <tr>\n",
       "      <th>ano_mes_da_acao</th>\n",
       "      <th></th>\n",
       "      <th></th>\n",
       "      <th></th>\n",
       "    </tr>\n",
       "  </thead>\n",
       "  <tbody>\n",
       "    <tr>\n",
       "      <th>2018-09</th>\n",
       "      <td>7</td>\n",
       "      <td>1</td>\n",
       "      <td>0</td>\n",
       "    </tr>\n",
       "    <tr>\n",
       "      <th>2019-10</th>\n",
       "      <td>5</td>\n",
       "      <td>0</td>\n",
       "      <td>0</td>\n",
       "    </tr>\n",
       "    <tr>\n",
       "      <th>2019-05</th>\n",
       "      <td>813247</td>\n",
       "      <td>142337</td>\n",
       "      <td>31193</td>\n",
       "    </tr>\n",
       "    <tr>\n",
       "      <th>2019-06</th>\n",
       "      <td>860999</td>\n",
       "      <td>167404</td>\n",
       "      <td>33560</td>\n",
       "    </tr>\n",
       "    <tr>\n",
       "      <th>2019-07</th>\n",
       "      <td>1055208</td>\n",
       "      <td>210115</td>\n",
       "      <td>38143</td>\n",
       "    </tr>\n",
       "    <tr>\n",
       "      <th>2019-09</th>\n",
       "      <td>946538</td>\n",
       "      <td>199862</td>\n",
       "      <td>39881</td>\n",
       "    </tr>\n",
       "    <tr>\n",
       "      <th>2019-08</th>\n",
       "      <td>1050087</td>\n",
       "      <td>224958</td>\n",
       "      <td>44485</td>\n",
       "    </tr>\n",
       "    <tr>\n",
       "      <th>2018-10</th>\n",
       "      <td>829055</td>\n",
       "      <td>179249</td>\n",
       "      <td>47464</td>\n",
       "    </tr>\n",
       "    <tr>\n",
       "      <th>2019-04</th>\n",
       "      <td>1183907</td>\n",
       "      <td>289121</td>\n",
       "      <td>73237</td>\n",
       "    </tr>\n",
       "    <tr>\n",
       "      <th>2018-12</th>\n",
       "      <td>1325117</td>\n",
       "      <td>276951</td>\n",
       "      <td>74169</td>\n",
       "    </tr>\n",
       "    <tr>\n",
       "      <th>2019-02</th>\n",
       "      <td>1170479</td>\n",
       "      <td>311430</td>\n",
       "      <td>83789</td>\n",
       "    </tr>\n",
       "    <tr>\n",
       "      <th>2018-11</th>\n",
       "      <td>1445384</td>\n",
       "      <td>324378</td>\n",
       "      <td>84091</td>\n",
       "    </tr>\n",
       "    <tr>\n",
       "      <th>2019-03</th>\n",
       "      <td>1229900</td>\n",
       "      <td>348882</td>\n",
       "      <td>94809</td>\n",
       "    </tr>\n",
       "    <tr>\n",
       "      <th>2019-01</th>\n",
       "      <td>1628443</td>\n",
       "      <td>395176</td>\n",
       "      <td>103550</td>\n",
       "    </tr>\n",
       "  </tbody>\n",
       "</table>\n",
       "</div>"
      ],
      "text/plain": [
       "                  buscou  colocou_no_carrinho  comprou\n",
       "ano_mes_da_acao                                       \n",
       "2018-09                7                    1        0\n",
       "2019-10                5                    0        0\n",
       "2019-05           813247               142337    31193\n",
       "2019-06           860999               167404    33560\n",
       "2019-07          1055208               210115    38143\n",
       "2019-09           946538               199862    39881\n",
       "2019-08          1050087               224958    44485\n",
       "2018-10           829055               179249    47464\n",
       "2019-04          1183907               289121    73237\n",
       "2018-12          1325117               276951    74169\n",
       "2019-02          1170479               311430    83789\n",
       "2018-11          1445384               324378    84091\n",
       "2019-03          1229900               348882    94809\n",
       "2019-01          1628443               395176   103550"
      ]
     },
     "execution_count": 19,
     "metadata": {},
     "output_type": "execute_result"
    }
   ],
   "source": [
    "ofertante"
   ]
  },
  {
   "cell_type": "code",
   "execution_count": 20,
   "metadata": {},
   "outputs": [
    {
     "data": {
      "text/html": [
       "<div>\n",
       "<style scoped>\n",
       "    .dataframe tbody tr th:only-of-type {\n",
       "        vertical-align: middle;\n",
       "    }\n",
       "\n",
       "    .dataframe tbody tr th {\n",
       "        vertical-align: top;\n",
       "    }\n",
       "\n",
       "    .dataframe thead th {\n",
       "        text-align: right;\n",
       "    }\n",
       "</style>\n",
       "<table border=\"1\" class=\"dataframe\">\n",
       "  <thead>\n",
       "    <tr style=\"text-align: right;\">\n",
       "      <th></th>\n",
       "      <th>buscou</th>\n",
       "      <th>colocou_no_carrinho</th>\n",
       "      <th>comprou</th>\n",
       "    </tr>\n",
       "  </thead>\n",
       "  <tbody>\n",
       "    <tr>\n",
       "      <th>count</th>\n",
       "      <td>1.400000e+01</td>\n",
       "      <td>14.000000</td>\n",
       "      <td>14.000000</td>\n",
       "    </tr>\n",
       "    <tr>\n",
       "      <th>mean</th>\n",
       "      <td>9.670269e+05</td>\n",
       "      <td>219276.000000</td>\n",
       "      <td>53455.071429</td>\n",
       "    </tr>\n",
       "    <tr>\n",
       "      <th>std</th>\n",
       "      <td>4.716042e+05</td>\n",
       "      <td>118435.676175</td>\n",
       "      <td>32863.495335</td>\n",
       "    </tr>\n",
       "    <tr>\n",
       "      <th>min</th>\n",
       "      <td>5.000000e+00</td>\n",
       "      <td>0.000000</td>\n",
       "      <td>0.000000</td>\n",
       "    </tr>\n",
       "    <tr>\n",
       "      <th>25%</th>\n",
       "      <td>8.370410e+05</td>\n",
       "      <td>170365.250000</td>\n",
       "      <td>34705.750000</td>\n",
       "    </tr>\n",
       "    <tr>\n",
       "      <th>50%</th>\n",
       "      <td>1.052648e+06</td>\n",
       "      <td>217536.500000</td>\n",
       "      <td>45974.500000</td>\n",
       "    </tr>\n",
       "    <tr>\n",
       "      <th>75%</th>\n",
       "      <td>1.218402e+06</td>\n",
       "      <td>305852.750000</td>\n",
       "      <td>81384.000000</td>\n",
       "    </tr>\n",
       "    <tr>\n",
       "      <th>max</th>\n",
       "      <td>1.628443e+06</td>\n",
       "      <td>395176.000000</td>\n",
       "      <td>103550.000000</td>\n",
       "    </tr>\n",
       "  </tbody>\n",
       "</table>\n",
       "</div>"
      ],
      "text/plain": [
       "             buscou  colocou_no_carrinho        comprou\n",
       "count  1.400000e+01            14.000000      14.000000\n",
       "mean   9.670269e+05        219276.000000   53455.071429\n",
       "std    4.716042e+05        118435.676175   32863.495335\n",
       "min    5.000000e+00             0.000000       0.000000\n",
       "25%    8.370410e+05        170365.250000   34705.750000\n",
       "50%    1.052648e+06        217536.500000   45974.500000\n",
       "75%    1.218402e+06        305852.750000   81384.000000\n",
       "max    1.628443e+06        395176.000000  103550.000000"
      ]
     },
     "execution_count": 20,
     "metadata": {},
     "output_type": "execute_result"
    }
   ],
   "source": [
    "### É possível observar que entre os meses de Maio e Outubro, temos uma quantidade de buscas e compras abaixo da média anual que é de\n",
    "### 53455 passagens compradas, sendo assim e tal período, podemos realizar mudanças na estrutura do setor de operações para captação de ofertantes.\n",
    "\n",
    "\n",
    "ofertante.describe()"
   ]
  },
  {
   "cell_type": "code",
   "execution_count": 27,
   "metadata": {},
   "outputs": [
    {
     "data": {
      "text/plain": [
       "<matplotlib.axes._subplots.AxesSubplot at 0x1f200660ef0>"
      ]
     },
     "execution_count": 27,
     "metadata": {},
     "output_type": "execute_result"
    },
    {
     "data": {
      "image/png": "[encoded data removed]",
      "text/plain": [
       "<Figure size 432x288 with 1 Axes>"
      ]
     },
     "metadata": {},
     "output_type": "display_data"
    }
   ],
   "source": [
    "ofertante['comprou'].plot(kind = \"bar\")"
   ]
  },
  {
   "cell_type": "code",
   "execution_count": null,
   "metadata": {},
   "outputs": [],
   "source": []
  }
 ],
 "metadata": {
  "kernelspec": {
   "display_name": "Python 3",
   "language": "python",
   "name": "python3"
  },
  "language_info": {
   "codemirror_mode": {
    "name": "ipython",
    "version": 3
   },
   "file_extension": ".py",
   "mimetype": "text/x-python",
   "name": "python",
   "nbconvert_exporter": "python",
   "pygments_lexer": "ipython3",
   "version": "3.6.5"
  }
 },
 "nbformat": 4,
 "nbformat_minor": 2
}
